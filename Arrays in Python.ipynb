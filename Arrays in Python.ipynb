{
 "cells": [
  {
   "cell_type": "markdown",
   "metadata": {},
   "source": [
    "## Array sequences in Python\n",
    "Array sequences in Python refer to 3 things: lists, tuples and strings. All the three support indexing.\n",
    "\n",
    "Each byte has a unique address. Consecutive bytes have consecutive numbers as address. Each byte can be accessed, read or written to in O(1), i.e. in constant time.\n",
    "\n",
    "A group of related variables can be stored one after another in contiguous portion of memory. This is an **array**.\n",
    "Each unicode character is represented in 2 bytes by Python. For example, the string \"SAMPLE\" will take 12 bytes.\n",
    "The two byte location alloted to a character is called **cell**. Now, each cell must be of same size, note necessarily 2 bytes.\n",
    "\n",
    "## Referential Arrays\n",
    "Consider an array of strings. All strings will have different length. Hence they cannot be stored in consecutive locations (discussed earlier). Hence in an array of strings, a reference of each string is stored. All references take up equal space, i.e. each cell has a reference to a string stored in another location.\n",
    "In python, list and tuples are referential in nature. \n",
    "\n",
    "In slices, it looks like a new list is formed. In reality, it holds the reference to the same objects as the original list. Change made to slice do not change the original list. The new list element now points to a new object that is different from the old list.\n",
    "\n",
    "## Coping Arrays\n",
    "```backup = list(array)``` This creates a shallow copy of the list, each elements reference the same object as the forst list. To create a new list, with elements pointing to new objects, **deepcopy** function from **copy** module can be used.\n",
    "\n",
    "```counter = [0] * 8``` all elements refer to the same location that holds value 0. ```counter[1] = 2``` This creates a new reference and saves it to index 1. \n",
    "\n",
    "```counter.extend(lst)``` Here, extend function add cells to the old list where each element is referring to the same object as the list *lst*."
   ]
  },
  {
   "cell_type": "markdown",
   "metadata": {},
   "source": [
    "## Time Complexities of functions called on Python lists\n",
    "**Operation**|**Big-O Efficiency**\n",
    ":-----:|:-----:\n",
    "index [] |O(1)\n",
    "index assignment |O(1)\n",
    "append |O(1)\n",
    "pop() |O(1)\n",
    "pop(i) |O(n)\n",
    "insert(i,item) |O(n)\n",
    "del operator |O(n)\n",
    "iteration |O(n)\n",
    "contains (in) |O(n)\n",
    "get slice [x:y] |O(k)\n",
    "del slice |O(n)\n",
    "set slice |O(n+k)\n",
    "reverse |O(n)\n",
    "concatenate |O(k)\n",
    "sort |O(n log n)\n",
    "multiply |O(nk)"
   ]
  },
  {
   "cell_type": "code",
   "execution_count": null,
   "metadata": {},
   "outputs": [],
   "source": []
  }
 ],
 "metadata": {
  "kernelspec": {
   "display_name": "Python 3",
   "language": "python",
   "name": "python3"
  },
  "language_info": {
   "codemirror_mode": {
    "name": "ipython",
    "version": 3
   },
   "file_extension": ".py",
   "mimetype": "text/x-python",
   "name": "python",
   "nbconvert_exporter": "python",
   "pygments_lexer": "ipython3",
   "version": "3.7.3"
  }
 },
 "nbformat": 4,
 "nbformat_minor": 2
}
