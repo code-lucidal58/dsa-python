{
 "cells": [
  {
   "cell_type": "markdown",
   "metadata": {},
   "source": [
    "# Array sequences in Python\n",
    "Array sequences in Python include: lists, tuples and strings. All the three support indexing.\n",
    "\n",
    "Each byte has a unique address. Consecutive bytes have consecutive numbers as address. Each byte can be accessed, read or written to in O(1), i.e. in constant time.\n",
    "\n",
    "A group of related variables can be stored one after another in contiguous portion of memory. This is an **array**.\n",
    "Each unicode character is represented in 2 bytes by Python. For example, the string \"SAMPLE\" will take 12 bytes.\n",
    "The two byte location alloted to a character is called **cell**. Now, each cell must be of same size, not necessarily of 2 bytes.\n",
    "\n",
    "## Referential Arrays\n",
    "Consider an array of strings. All strings will have different length. Hence they cannot be stored in consecutive locations (as discussed earlier). Hence in an array of strings, a reference of each string is stored. All references take up equal space, i.e. each cell has a reference to a string stored in another location.\n",
    "In python, list and tuples are referential in nature. \n",
    "\n",
    "In slices, it looks like a new list is formed. In reality, it holds the reference to the same objects as the original list. Changes made to slice do not change the original list. The new list element now points to a new object that is different from the old list.\n",
    "\n",
    "## Coping Arrays\n",
    "```backup = list(array)``` This creates a shallow copy of the list, each elements reference the same object as the first list. To create a new list, with elements pointing to new objects, **deepcopy** function from **copy** module can be used.\n",
    "\n",
    "```counter = [0] * 8``` all elements refer to the same location that holds value 0. ```counter[1] = 2``` This creates a new reference and saves it to index 1. \n",
    "\n",
    "```counter.extend(lst)``` Here, extend function add cells to the old list where each element is referring to the same object as the list *lst*."
   ]
  },
  {
   "cell_type": "markdown",
   "metadata": {},
   "source": [
    "## Time Complexities of functions called on Python lists\n",
    "**Operation**|**Big-O Efficiency**\n",
    ":-----:|:-----:\n",
    "index [] |O(1)\n",
    "index assignment |O(1)\n",
    "append |O(1)\n",
    "pop() |O(1)\n",
    "pop(i) |O(n)\n",
    "insert(i,item) |O(n)\n",
    "del operator |O(n)\n",
    "iteration |O(n)\n",
    "contains (in) |O(n)\n",
    "get slice [x:y] |O(k)\n",
    "del slice |O(n)\n",
    "set slice |O(n+k)\n",
    "reverse |O(n)\n",
    "concatenate |O(k)\n",
    "sort |O(n log n)\n",
    "multiply |O(nk)"
   ]
  },
  {
   "cell_type": "markdown",
   "metadata": {},
   "source": [
    "A list instance often has greater capacity than specified. The following examples illustrates that size of array is increased in chunks."
   ]
  },
  {
   "cell_type": "code",
   "execution_count": 1,
   "metadata": {},
   "outputs": [
    {
     "name": "stdout",
     "output_type": "stream",
     "text": [
      "length 0 size in bytes 64\n",
      "length 1 size in bytes 96\n",
      "length 2 size in bytes 96\n",
      "length 3 size in bytes 96\n",
      "length 4 size in bytes 96\n",
      "length 5 size in bytes 128\n",
      "length 6 size in bytes 128\n",
      "length 7 size in bytes 128\n",
      "length 8 size in bytes 128\n",
      "length 9 size in bytes 192\n"
     ]
    }
   ],
   "source": [
    "import sys\n",
    "\n",
    "n=10\n",
    "data = []\n",
    "for i in range(n):\n",
    "    a = len(data)\n",
    "    b = sys.getsizeof(data)\n",
    "    print(\"length\", a, \"size in bytes\", b)\n",
    "    data.append(n)"
   ]
  },
  {
   "cell_type": "markdown",
   "metadata": {},
   "source": [
    "Change the value of n to 50 and run the program again. This is to understand how increase of capacity occurs. This is called dynamic array. List class in Python are dynamic arrays.\n",
    "\n",
    "In following example, a custom dynamic array is written."
   ]
  },
  {
   "cell_type": "code",
   "execution_count": 2,
   "metadata": {},
   "outputs": [],
   "source": [
    "import ctypes\n",
    "\n",
    "class DynamicArray(object):\n",
    "    \n",
    "    def __init__(self):\n",
    "        self.n = 0\n",
    "        self.capacity = 1\n",
    "        self.A = self.make_array(self.capacity)\n",
    "        \n",
    "    def __len__(self):\n",
    "        return self.n\n",
    "    \n",
    "    def __getitem__(self, k):\n",
    "        if not 0 <= k < self.n:\n",
    "            return IndexError('K is out of bound!')\n",
    "        return self.A[k]\n",
    "    \n",
    "    def append(self, ele):\n",
    "        if self.n == self.capacity:\n",
    "            self._resize(2*self.capacity) #2x if capacity isn't enough\n",
    "        self.A[self.n] = ele\n",
    "        self.n += 1\n",
    "        \n",
    "    def _resize(self, new_cap):\n",
    "        B = self.make_array(new_cap)\n",
    "        for k in range(self.n):\n",
    "            B[k] = self.A[k]\n",
    "        self.A = B\n",
    "        self.capacity = new_cap\n",
    "        \n",
    "    def make_array(self, new_cap):\n",
    "        return (new_cap * ctypes.py_object)()"
   ]
  },
  {
   "cell_type": "code",
   "execution_count": 8,
   "metadata": {},
   "outputs": [
    {
     "name": "stdout",
     "output_type": "stream",
     "text": [
      "length: 1\n",
      "length: 2\n",
      "second element 2\n"
     ]
    }
   ],
   "source": [
    "arr = DynamicArray()\n",
    "arr.append(1)\n",
    "print(\"length:\", len(arr))\n",
    "arr.append(2)\n",
    "print(\"length:\", len(arr))\n",
    "print(\"second element\", arr[1])"
   ]
  },
  {
   "cell_type": "markdown",
   "metadata": {},
   "source": [
    "## Amotized Analysis of Array\n",
    "This is to study how capacity is increased for dynamic arrays.\n",
    "\n",
    "## Interview Questions"
   ]
  },
  {
   "cell_type": "code",
   "execution_count": 25,
   "metadata": {},
   "outputs": [
    {
     "name": "stdout",
     "output_type": "stream",
     "text": [
      "Results of first implementation\n",
      "True\n",
      "False\n",
      "Results of second implementation\n",
      "God Dog\n",
      "god dog\n",
      "False\n",
      "clint eastwood old west action\n",
      "clinteastwood oldwestaction\n",
      "False\n"
     ]
    }
   ],
   "source": [
    "\"\"\"\n",
    "Anagram Check: Given two strings if they are anagrams\n",
    "Ignore white spaces and capitalizations\n",
    "\"\"\"\n",
    "\n",
    "def anagram_check(a, b): # preferred solution\n",
    "    a = a.lower().replace(' ','')\n",
    "    b = b.lower().replace(' ','')\n",
    "    return sorted(a) == sorted(b)\n",
    "\n",
    "print(\"Results of first implementation\")\n",
    "print(anagram_check(\"God\", \"Dog\"))\n",
    "print(anagram_check(\"clint eastwood\", \"olsd west action\"))\n",
    "\n",
    "def anagram_check2(a, b):\n",
    "    print(a, b)\n",
    "    a = a.lower().replace(' ','')\n",
    "    b = b.lower().replace(' ','')\n",
    "    if len(a) != len(b):\n",
    "        return False\n",
    "    count = {}\n",
    "    for letter in a:\n",
    "        if letter in count:\n",
    "            count[letter] += 1\n",
    "        else:\n",
    "            count[letter] = 1\n",
    "    for letter in b:\n",
    "        for letter in count:\n",
    "            count[letter] -= 1\n",
    "        else:\n",
    "            print(a, b)\n",
    "            return False\n",
    "    \n",
    "    for k in count:\n",
    "        if count[k] != 0:\n",
    "            return False\n",
    "    return True\n",
    "\n",
    "print(\"Results of second implementation\")\n",
    "print(anagram_check2(\"God\", \"Dog\"))\n",
    "print(anagram_check2(\"clint eastwood\", \"old west action\"))"
   ]
  },
  {
   "cell_type": "code",
   "execution_count": null,
   "metadata": {},
   "outputs": [],
   "source": [
    "\"\"\"\n",
    "Array Pair Sum: \n",
    "\"\"\""
   ]
  }
 ],
 "metadata": {
  "kernelspec": {
   "display_name": "Python 3",
   "language": "python",
   "name": "python3"
  },
  "language_info": {
   "codemirror_mode": {
    "name": "ipython",
    "version": 3
   },
   "file_extension": ".py",
   "mimetype": "text/x-python",
   "name": "python",
   "nbconvert_exporter": "python",
   "pygments_lexer": "ipython3",
   "version": "3.7.3"
  }
 },
 "nbformat": 4,
 "nbformat_minor": 2
}
