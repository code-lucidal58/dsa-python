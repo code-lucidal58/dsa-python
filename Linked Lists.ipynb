{
 "cells": [
  {
   "cell_type": "markdown",
   "metadata": {},
   "source": [
    "## Singly Linked Lists\n",
    "It is a collection of nodes. Each node has an element and a reference to the next node in the collections. **HEAD** is a member that points to the first node in the collection. The last node is called **TAIL**. The last node is has a reference to *None*. Traversing a linked list is also called **link hopping** or **pointer hopping**.\n",
    "\n",
    "An important property of a linked list is it does not have a predefined fixed size.\n",
    "To insert an element to the HEAD:\n",
    "* create a new node with the element\n",
    "* new node point to head reference\n",
    "* head point to ne node\n",
    "\n",
    "To insert an element to the TAIL:\n",
    "* create a new node\n",
    "* tail reference points to new node\n",
    "* tail points to new node\n",
    "\n",
    "Removing an element from HEAD:\n",
    "* head points to head reference\n",
    "\n",
    "Removing an element from TAIL: not an easy task\n",
    "\n",
    "O(n) -> accessing element\n",
    "O(1) -> insertion and deletion of an element "
   ]
  },
  {
   "cell_type": "code",
   "execution_count": 2,
   "metadata": {},
   "outputs": [
    {
     "name": "stdout",
     "output_type": "stream",
     "text": [
      "1\n",
      "<__main__.Node object at 0x10c6005c0>\n",
      "2\n"
     ]
    }
   ],
   "source": [
    "class Node(object):\n",
    "    def __init__(self, ele):\n",
    "        self.value = ele\n",
    "        self.next_node = None\n",
    "        \n",
    "a = Node(1)\n",
    "b = Node(2)\n",
    "c = Node(3)\n",
    "\n",
    "a.next_node = b\n",
    "b.next_node = c\n",
    "\n",
    "print(a.value)\n",
    "print(a.next_node)\n",
    "print(a.next_node.value)"
   ]
  },
  {
   "cell_type": "markdown",
   "metadata": {},
   "source": [
    "## Doubly Linked List\n",
    "A linked list in which each node keeps a reference to the node after it as well as node before it. The *next* is used to refer to next node and *prev* to refer to previous node.\n",
    "\n",
    "A **header** node is at the beginning and a **trailer** is node is at the last. These nodes are called sentinel or dummy nodes."
   ]
  },
  {
   "cell_type": "code",
   "execution_count": 5,
   "metadata": {},
   "outputs": [
    {
     "name": "stdout",
     "output_type": "stream",
     "text": [
      "1\n"
     ]
    }
   ],
   "source": [
    "class DoublyLLNode(object):\n",
    "    def __init__(self, ele):\n",
    "        self.prev_node = None\n",
    "        self.value = ele\n",
    "        self.next_node = Node\n",
    "        \n",
    "a = DoublyLLNode(1)\n",
    "b = DoublyLLNode(2)\n",
    "c = DoublyLLNode(3)\n",
    "\n",
    "a.next_node = b\n",
    "b.prev_node = a\n",
    "b.next_node = c\n",
    "c.prev_node = b\n",
    "\n",
    "print(b.prev_node.value)"
   ]
  },
  {
   "cell_type": "markdown",
   "metadata": {},
   "source": [
    "## Interview Questions"
   ]
  },
  {
   "cell_type": "code",
   "execution_count": 12,
   "metadata": {},
   "outputs": [
    {
     "name": "stdout",
     "output_type": "stream",
     "text": [
      "False\n",
      "True\n"
     ]
    }
   ],
   "source": [
    "\"\"\"\n",
    "Singly Linked List Cycle List: check if the list has cycles\n",
    "\"\"\"\n",
    "class Node(object):\n",
    "    def __init__(self, ele):\n",
    "        self.value = ele\n",
    "        self.nextnode = None\n",
    "        \n",
    "def cycle_check(node):\n",
    "    marker1 = node\n",
    "    marker2 = node\n",
    "    while marker2!=None and marker2.nextnode!=None:\n",
    "        marker1 = marker1.nextnode\n",
    "        marker2 = marker2.nextnode.nextnode\n",
    "        if marker2 == marker1:\n",
    "            return True\n",
    "    return False\n",
    "\n",
    "a = Node(1)\n",
    "b = Node(2)\n",
    "c = Node(3)\n",
    "\n",
    "a.nextnode = b\n",
    "b.nextnode = c\n",
    "print(cycle_check(a))\n",
    "c.nextnode = a\n",
    "print(cycle_check(a))"
   ]
  },
  {
   "cell_type": "code",
   "execution_count": null,
   "metadata": {},
   "outputs": [],
   "source": []
  }
 ],
 "metadata": {
  "kernelspec": {
   "display_name": "Python 3",
   "language": "python",
   "name": "python3"
  },
  "language_info": {
   "codemirror_mode": {
    "name": "ipython",
    "version": 3
   },
   "file_extension": ".py",
   "mimetype": "text/x-python",
   "name": "python",
   "nbconvert_exporter": "python",
   "pygments_lexer": "ipython3",
   "version": "3.7.3"
  }
 },
 "nbformat": 4,
 "nbformat_minor": 2
}
