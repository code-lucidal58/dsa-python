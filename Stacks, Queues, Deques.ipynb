{
 "cells": [
  {
   "cell_type": "markdown",
   "metadata": {},
   "source": [
    "## Stacks\n",
    "Addition and deletion of items takes place through one end called the **top**. The enclosed end is called the **bottom**. An example is a stack of plates. New plates are placed at the top. Removal of plates also take place from the top. The item which is closer to the bottom is the one which has stayed in the stack the longest. The newer items stay close to the top. This is called **LIFO (Last In First Out)**.\n",
    "\n",
    "Insertion is called **push**. This means addition of item to the top. Deletion is called **pop**. This means removal of first item from the top. \n",
    "\n",
    "This data structure can be used for reversal of list."
   ]
  },
  {
   "cell_type": "code",
   "execution_count": 3,
   "metadata": {},
   "outputs": [
    {
     "name": "stdout",
     "output_type": "stream",
     "text": [
      "is empty True\n",
      "peeak me\n",
      "size 3\n",
      "is empty False\n",
      "is empty True\n"
     ]
    }
   ],
   "source": [
    "\"\"\"\n",
    "Stack class implementation\n",
    "\"\"\"\n",
    "\n",
    "class Stack(object):\n",
    "    def __init__(self):\n",
    "        self.items = []\n",
    "    \n",
    "    def is_empty(self):\n",
    "        return self.items == []\n",
    "    \n",
    "    def push(self, item):\n",
    "        self.items.append(item)\n",
    "    \n",
    "    def pop(self):\n",
    "        return self.items.pop()\n",
    "    \n",
    "    def peek(self):\n",
    "        return self.items[len(self.items) - 1]\n",
    "    \n",
    "    def size(self):\n",
    "        return len(self.items)\n",
    "    \n",
    "s = Stack()\n",
    "print(\"is empty\", s.is_empty())\n",
    "s.push(1)\n",
    "s.push(\"me\")\n",
    "print(\"peeak\", s.peek())\n",
    "s.push(True)\n",
    "print(\"size\", s.size())\n",
    "print(\"is empty\", s.is_empty())\n",
    "s.pop()\n",
    "s.pop()\n",
    "s.pop()\n",
    "print(\"is empty\", s.is_empty())"
   ]
  },
  {
   "cell_type": "markdown",
   "metadata": {},
   "source": [
    "## Queues\n",
    "It is an ordered collection of items where addition of new items happen at one end, called the **rear** and removal of existing items occur at the other end, called the **front**. This is called First In First Out **(FIFO)**. A simple example is the line we participate in time to time. Be it a line to check out grocery, in a cafeteria or a movie line. **Enqueue** is adding an item at the rear. **Dequeue** is removal of item from the front."
   ]
  },
  {
   "cell_type": "code",
   "execution_count": 4,
   "metadata": {},
   "outputs": [
    {
     "name": "stdout",
     "output_type": "stream",
     "text": [
      "size 0\n",
      "dequeue 1\n",
      "size 1\n"
     ]
    }
   ],
   "source": [
    "\"\"\"\n",
    "Queue class Implementation\n",
    "\"\"\"\n",
    "class Queue(object):\n",
    "    def __init__(self):\n",
    "        self.items = []\n",
    "        \n",
    "    def is_empty(self):\n",
    "        return self.items == []\n",
    "    \n",
    "    def enqueue(self, item):\n",
    "        self.items.insert(0, item)\n",
    "    \n",
    "    def dequeue(self):\n",
    "        return self.items.pop()\n",
    "    \n",
    "    def size(self):\n",
    "        return len(self.items)\n",
    "    \n",
    "q = Queue()\n",
    "print(\"size\", q.size())\n",
    "q.enqueue(1)\n",
    "q.enqueue(2)\n",
    "print(\"dequeue\", q.dequeue())\n",
    "print(\"size\", q.size())"
   ]
  },
  {
   "cell_type": "markdown",
   "metadata": {},
   "source": [
    "## Deque\n",
    "Double ended queue. It is similar to queue, except that it has an unrestricted nature of addition and removal of items. New items can be added to front or rear of deque. Same is for removal of item. Hence, it has characteristics of stack as well as queue."
   ]
  },
  {
   "cell_type": "code",
   "execution_count": 11,
   "metadata": {},
   "outputs": [
    {
     "name": "stdout",
     "output_type": "stream",
     "text": [
      "size 2\n",
      "Hello World\n",
      "size 0\n",
      "is empty? True\n"
     ]
    }
   ],
   "source": [
    "\"\"\"\n",
    "Deque class implementation\n",
    "\"\"\"\n",
    "\n",
    "class Deque(object):\n",
    "    def __init__(self):\n",
    "        self.items = []\n",
    "    \n",
    "    def is_empty(self):\n",
    "        return self.items == []\n",
    "    \n",
    "    def add_front(self, item):\n",
    "        self.items.append(item)\n",
    "    \n",
    "    def add_rear(self, item):\n",
    "        self.items.insert(0, item)\n",
    "        \n",
    "    def remove_front(self):\n",
    "        return self.items.pop()\n",
    "        \n",
    "    def remove_rear(self):\n",
    "        return self.items.pop(0)\n",
    "    \n",
    "    def size(self):\n",
    "        return len(self.items)\n",
    "    \n",
    "d = Deque()\n",
    "d.add_front(\"Hello\")\n",
    "d.add_rear(\"World\")\n",
    "print(\"size\", d.size())\n",
    "print(d.remove_front(), d.remove_rear())\n",
    "print(\"size\", d.size())\n",
    "print(\"is empty?\", d.is_empty())"
   ]
  },
  {
   "cell_type": "markdown",
   "metadata": {},
   "source": [
    "## Interview Questions"
   ]
  },
  {
   "cell_type": "code",
   "execution_count": 5,
   "metadata": {},
   "outputs": [
    {
     "name": "stdout",
     "output_type": "stream",
     "text": [
      "True\n",
      "False\n"
     ]
    }
   ],
   "source": [
    "\"\"\"\n",
    "Balanced Parentheses Check: has all three types of parantheses. Given a string of brackets only \n",
    "(no spaces or other characters), check if it is balanced\n",
    "\"\"\"\n",
    "\n",
    "def balance_check(s):\n",
    "    if len(s)%2 != 0: # uneven number of brackets\n",
    "        return False\n",
    "    opening = set('({[')\n",
    "    matches = set([('(',')'),('{','}'),('[',']')])\n",
    "    stack = []\n",
    "    for i in s:\n",
    "        if i in opening:\n",
    "            stack.append(i)\n",
    "        else: # closing bracket\n",
    "            if len(stack) == 0: # no opening bracket in the stack\n",
    "                return False\n",
    "            last_open = stack.pop()\n",
    "            if (last_open, i) not in matches:\n",
    "                return False\n",
    "    return len(stack) == 0 # all open brackets found their closing counterpart\n",
    "\n",
    "print(balance_check('[]'))\n",
    "print(balance_check('[[[({(})]]]'))"
   ]
  },
  {
   "cell_type": "code",
   "execution_count": 6,
   "metadata": {},
   "outputs": [
    {
     "name": "stdout",
     "output_type": "stream",
     "text": [
      "1\n",
      "2\n"
     ]
    }
   ],
   "source": [
    "\"\"\"\n",
    "Implement a Queue using 2 Stacks\n",
    "\"\"\"\n",
    "class Queue2Stacks(object):\n",
    "    def __init__(self):\n",
    "        self.in_stack = []\n",
    "        self.out_stack = []\n",
    "        \n",
    "    def enqueue(self, item):\n",
    "        self.in_stack.append(item)\n",
    "        \n",
    "    def dequeue(self):\n",
    "        if not self.out_stack:\n",
    "            while self.in_stack:\n",
    "                self.out_stack.append(self.in_stack.pop())\n",
    "        return self.out_stack.pop()\n",
    "        \n",
    "q = Queue2Stacks()\n",
    "q.enqueue(1)\n",
    "q.enqueue(2)\n",
    "q.enqueue(3)\n",
    "print(q.dequeue())\n",
    "q.enqueue(4)\n",
    "print(q.dequeue())"
   ]
  }
 ],
 "metadata": {
  "kernelspec": {
   "display_name": "Python 3",
   "language": "python",
   "name": "python3"
  },
  "language_info": {
   "codemirror_mode": {
    "name": "ipython",
    "version": 3
   },
   "file_extension": ".py",
   "mimetype": "text/x-python",
   "name": "python",
   "nbconvert_exporter": "python",
   "pygments_lexer": "ipython3",
   "version": "3.7.4"
  }
 },
 "nbformat": 4,
 "nbformat_minor": 2
}
