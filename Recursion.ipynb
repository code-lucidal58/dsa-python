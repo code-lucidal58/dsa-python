{
 "cells": [
  {
   "cell_type": "markdown",
   "metadata": {},
   "source": [
    "## Recursion\n",
    "A function making one or more call to itself. Recursion provides a powerful alternative for performing repetitions of tasks in which a loop is not ideal.\n",
    "A simple example is demonstrated by writing a factorial function. "
   ]
  },
  {
   "cell_type": "code",
   "execution_count": 3,
   "metadata": {},
   "outputs": [
    {
     "name": "stdout",
     "output_type": "stream",
     "text": [
      "24\n",
      "40320\n"
     ]
    }
   ],
   "source": [
    "def factorial(n):\n",
    "    if n == 0:\n",
    "        return 1\n",
    "    if n == 1:\n",
    "        return 1\n",
    "    a=n*factorial(n-1)\n",
    "    return a\n",
    "print(factorial(4))\n",
    "print(factorial(8))"
   ]
  },
  {
   "cell_type": "code",
   "execution_count": 4,
   "metadata": {},
   "outputs": [
    {
     "data": {
      "text/plain": [
       "10"
      ]
     },
     "execution_count": 4,
     "metadata": {},
     "output_type": "execute_result"
    }
   ],
   "source": [
    "\"\"\"\n",
    "sum from 0 to n, given n is an integer\n",
    "\"\"\"\n",
    "\n",
    "def sum_integer(n):\n",
    "    if n == 0:\n",
    "        return 0\n",
    "    s = n + sum_integer(n-1)\n",
    "    return s\n",
    "sum_integer(4)"
   ]
  },
  {
   "cell_type": "code",
   "execution_count": 5,
   "metadata": {},
   "outputs": [
    {
     "data": {
      "text/plain": [
       "26"
      ]
     },
     "execution_count": 5,
     "metadata": {},
     "output_type": "execute_result"
    }
   ],
   "source": [
    "\"\"\"\n",
    "Given a number, return the sum of integers\n",
    "\"\"\"\n",
    "\n",
    "def sum_of_digits(n):\n",
    "    if n%10 == 0:\n",
    "        return 0\n",
    "    s= (n%10) + sum_of_digits(n//10)\n",
    "    return s\n",
    "\n",
    "sum_of_digits(7865)"
   ]
  },
  {
   "cell_type": "code",
   "execution_count": 7,
   "metadata": {},
   "outputs": [
    {
     "name": "stdout",
     "output_type": "stream",
     "text": [
      "['the', 'man', 'ran']\n",
      "['i', 'love', 'dogs', 'John']\n",
      "[]\n"
     ]
    }
   ],
   "source": [
    "\"\"\"\n",
    "Given a string phrase and a set of list words. Split string such that words from the list are made\n",
    "\"\"\"\n",
    "def word_split(phrase, l_words, output = None):\n",
    "    if output is None:\n",
    "        output = []\n",
    "    for word in l_words:\n",
    "        if phrase.startswith(word):\n",
    "            output.append(word)\n",
    "            return word_split(phrase[len(word):], l_words, output)\n",
    "    return output\n",
    "print(word_split('themanran',['the', 'ran', 'man']))\n",
    "print(word_split('ilovedogsJohn',['i','am','a','dogs','lover','love','John']))\n",
    "print(word_split('themanran',['clown','ran','man']))"
   ]
  },
  {
   "cell_type": "markdown",
   "metadata": {},
   "source": [
    "## Memoization\n",
    "Memoization effectively refers to remembering (\"memoization\" -> \"memorandum\" -> to be remembered) results of method calls based on the method inputs and then returning the remembered result rather than computing the result again."
   ]
  },
  {
   "cell_type": "code",
   "execution_count": 13,
   "metadata": {},
   "outputs": [
    {
     "name": "stdout",
     "output_type": "stream",
     "text": [
      "24\n",
      "40320\n"
     ]
    }
   ],
   "source": [
    "f = {}\n",
    "def memo_factorial(k):\n",
    "    if k < 2:\n",
    "        return 1\n",
    "    if k not in f.keys():\n",
    "        f[k] = k*memo_factorial(k-1)\n",
    "    return f[k]\n",
    "print(memo_factorial(4))\n",
    "print(memo_factorial(8))"
   ]
  },
  {
   "cell_type": "markdown",
   "metadata": {},
   "source": [
    "The memoization process can be encapsulated into a class"
   ]
  },
  {
   "cell_type": "code",
   "execution_count": 23,
   "metadata": {},
   "outputs": [
    {
     "name": "stdout",
     "output_type": "stream",
     "text": [
      "24\n",
      "40320\n",
      "321 ns ± 18.2 ns per loop (mean ± std. dev. of 7 runs, 1000000 loops each)\n",
      "204 ns ± 8.37 ns per loop (mean ± std. dev. of 7 runs, 1000000 loops each)\n",
      "1.31 µs ± 41.3 ns per loop (mean ± std. dev. of 7 runs, 1000000 loops each)\n"
     ]
    }
   ],
   "source": [
    "class Memoization:\n",
    "    def __init__(self, f):\n",
    "        self.f = f\n",
    "        self.memo = {}\n",
    "        \n",
    "    def __call__(self, *args):\n",
    "        if args not in self.memo.keys():\n",
    "            self.memo[args] = self.f(*args)\n",
    "        return self.memo[args]\n",
    "    \n",
    "def class_memo_factorial(k):\n",
    "    if k<2:\n",
    "        return 1\n",
    "    return k*factorial(k-1)\n",
    "\n",
    "class_memo_factorial = Memoization(class_memo_factorial)\n",
    "print(class_memo_factorial(4))\n",
    "print(class_memo_factorial(8))\n",
    "%timeit class_memo_factorial(10)\n",
    "%timeit memo_factorial(10)\n",
    "%timeit factorial(10)"
   ]
  },
  {
   "cell_type": "markdown",
   "metadata": {},
   "source": [
    "## Interview Questions"
   ]
  },
  {
   "cell_type": "code",
   "execution_count": 24,
   "metadata": {},
   "outputs": [
    {
     "data": {
      "text/plain": [
       "'kjhgfdcba'"
      ]
     },
     "execution_count": 24,
     "metadata": {},
     "output_type": "execute_result"
    }
   ],
   "source": [
    "\"\"\"\n",
    "Reverse a string using recursion\n",
    "\"\"\"\n",
    "def reverse(s):\n",
    "    if len(s) == 1:\n",
    "        return s\n",
    "    return reverse(s[1:]) + s[0]\n",
    "reverse(\"abcdfghjk\")"
   ]
  },
  {
   "cell_type": "code",
   "execution_count": 25,
   "metadata": {},
   "outputs": [
    {
     "data": {
      "text/plain": [
       "['abc', 'acb', 'bac', 'bca', 'cab', 'cba']"
      ]
     },
     "execution_count": 25,
     "metadata": {},
     "output_type": "execute_result"
    }
   ],
   "source": [
    "\"\"\"\n",
    "Find all permutations of a given string. If character is repeating, treat each as distinct\n",
    "If not using recursion, you can use itertools library\n",
    "NEED TO REVISIT\n",
    "\"\"\"\n",
    "def permutation(s):\n",
    "    out = []\n",
    "    if len(s) == 1:\n",
    "        out = [s]\n",
    "    else:\n",
    "        for i,let in enumerate(s):\n",
    "            for perm in permutation(s[:i] + s[i+1:]):\n",
    "                out += [let+perm]\n",
    "    return out\n",
    "permutation('abc')      "
   ]
  },
  {
   "cell_type": "code",
   "execution_count": 33,
   "metadata": {},
   "outputs": [
    {
     "name": "stdout",
     "output_type": "stream",
     "text": [
      "55\n",
      "21\n"
     ]
    }
   ],
   "source": [
    "\"\"\"\n",
    "Fibonacci Number Sequence using Recursion O(2^n)\n",
    "\"\"\"\n",
    "def fibonacci(n):\n",
    "    if n == 0 or n == 1:\n",
    "        return n\n",
    "    else :\n",
    "        return fibonacci(n-1) + fibonacci(n-2)\n",
    "\n",
    "print(fibonacci(10))\n",
    "print(fibonacci(8))"
   ]
  },
  {
   "cell_type": "code",
   "execution_count": 38,
   "metadata": {},
   "outputs": [
    {
     "name": "stdout",
     "output_type": "stream",
     "text": [
      "55\n",
      "21\n"
     ]
    }
   ],
   "source": [
    "\"\"\"\n",
    "Fibonacci Number Sequence using Dynamic Programming\n",
    "n is known already\n",
    "\"\"\"\n",
    "n=100\n",
    "f = [None]*n\n",
    "\n",
    "def fibonacci_dynamic(n):\n",
    "    if n == 0 or n == 1:\n",
    "        return n\n",
    "    if f[n] != None:\n",
    "        return f[n]\n",
    "    f[n] = fibonacci_dynamic(n-1)+fibonacci_dynamic(n-2)\n",
    "    return f[n]\n",
    "    \n",
    "print(fibonacci_dynamic(10))\n",
    "print(fibonacci_dynamic(8))"
   ]
  },
  {
   "cell_type": "code",
   "execution_count": 40,
   "metadata": {},
   "outputs": [
    {
     "name": "stdout",
     "output_type": "stream",
     "text": [
      "22.4 µs ± 402 ns per loop (mean ± std. dev. of 7 runs, 10000 loops each)\n",
      "193 ns ± 6.64 ns per loop (mean ± std. dev. of 7 runs, 10000000 loops each)\n"
     ]
    }
   ],
   "source": [
    "%timeit fibonacci(10)\n",
    "%timeit fibonacci_dynamic(10)"
   ]
  },
  {
   "cell_type": "code",
   "execution_count": 46,
   "metadata": {},
   "outputs": [
    {
     "data": {
      "text/plain": [
       "1"
      ]
     },
     "execution_count": 46,
     "metadata": {},
     "output_type": "execute_result"
    }
   ],
   "source": [
    "\"\"\"\n",
    "Coin Changing Problem\n",
    "Target amount: n , denominations given. Find the minimum number of coins required\n",
    "\"\"\"\n",
    "\n",
    "def rec_coin(target, coins):\n",
    "    min_coins = target\n",
    "    if target in coins:\n",
    "        return 1\n",
    "    for i in [c for c in coins if c<=target]:\n",
    "        num_coins = 1+rec_coin(target-i, coins)\n",
    "        if num_coins<min_coins:\n",
    "            min_coins = num_coins\n",
    "    return min_coins\n",
    "\n",
    "rec_coin(10,[1,5,10])\n",
    "    "
   ]
  },
  {
   "cell_type": "code",
   "execution_count": 52,
   "metadata": {},
   "outputs": [
    {
     "name": "stdout",
     "output_type": "stream",
     "text": [
      "8\n"
     ]
    }
   ],
   "source": [
    "\"\"\"\n",
    "Coin Changing Problem\n",
    "Target amount: n , denominations given. Find the minimum number of coins required\n",
    "Using Dynamic Programming\n",
    "More efficient of time, but less in case of memory\n",
    "\"\"\"\n",
    "\n",
    "def rec_coin_dynam(target, coins, known_results):\n",
    "    min_coins = target\n",
    "    if target in coins:\n",
    "        known_results[target] = 1\n",
    "        return 1\n",
    "    elif known_results[target] > 0: # return a known result\n",
    "        return known_results[target]\n",
    "    else:\n",
    "        for i in [c for c in coins if c <= target]:\n",
    "            num_coins = 1 + rec_coin_dynam(target-i, coins, known_results)\n",
    "            if num_coins<min_coins:\n",
    "                min_coins = num_coins\n",
    "                known_results[target] = min_coins\n",
    "    return min_coins\n",
    "\n",
    "target = 74\n",
    "known_results = [0]*(target+1)\n",
    "print(rec_coin_dynam(target, [1, 5, 10, 25], known_results))"
   ]
  }
 ],
 "metadata": {
  "kernelspec": {
   "display_name": "Python 3",
   "language": "python",
   "name": "python3"
  },
  "language_info": {
   "codemirror_mode": {
    "name": "ipython",
    "version": 3
   },
   "file_extension": ".py",
   "mimetype": "text/x-python",
   "name": "python",
   "nbconvert_exporter": "python",
   "pygments_lexer": "ipython3",
   "version": "3.7.4"
  }
 },
 "nbformat": 4,
 "nbformat_minor": 2
}
