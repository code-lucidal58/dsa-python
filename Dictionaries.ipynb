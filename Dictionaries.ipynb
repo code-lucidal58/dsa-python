{
 "cells": [
  {
   "cell_type": "markdown",
   "metadata": {},
   "source": [
    "## TimeComplexities for functions called on Python Dictionaries\n",
    "**Operation**|**Big-O Efficiency**\n",
    ":-----:|:-----:\n",
    "copy |O(n)\n",
    "get item |O(1)\n",
    "set item |O(1)\n",
    "delete item |O(1)\n",
    "contains (in) |O(1)\n",
    "iteration |O(n)"
   ]
  }
 ],
 "metadata": {
  "kernelspec": {
   "display_name": "Python 3",
   "language": "python",
   "name": "python3"
  },
  "language_info": {
   "codemirror_mode": {
    "name": "ipython",
    "version": 3
   },
   "file_extension": ".py",
   "mimetype": "text/x-python",
   "name": "python",
   "nbconvert_exporter": "python",
   "pygments_lexer": "ipython3",
   "version": "3.7.4"
  }
 },
 "nbformat": 4,
 "nbformat_minor": 2
}
