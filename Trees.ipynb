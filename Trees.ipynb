{
 "cells": [
  {
   "cell_type": "markdown",
   "metadata": {},
   "source": [
    "## Trees\n",
    "It has a root, branches and node. Root is at the top. All the children of one branch are independent of children nodes of another branch. An exampleof tree is file structure.  \n",
    "**Node**:  fundamental part of tree. Also called the key. The value of node is called a payload.  \n",
    "**Edge**: edge connects two nodes. There is one incoming edge to a node, and many outgoing edge. Root does not have an incoming edge.  \n",
    "**Path**: an ordered list of nodes that are connected by edges.  \n",
    "**Children**: nodes that have incoming edges from the same node.  \n",
    "**Parent**: Node is a prent of the nodes to which it has outgoing edges.  \n",
    "**Siblings**: Children of same parent.  \n",
    "**Subtree**: A set of nodes and edges comprised of a parent and all the descendants of that parent.  \n",
    "**Leaf node**: nodes that does not have children.  \n",
    "**Level**: Level of a node n is the number of edges on the path from the root node to n.  \n",
    "**Height**: the maximum level of any node in a tree.\n",
    "\n",
    "Path to a node fron root is unique. If nodes of a tree have maximum of 2 children, it is called **binary tree**."
   ]
  },
  {
   "cell_type": "code",
   "execution_count": 6,
   "metadata": {},
   "outputs": [],
   "source": [
    "\"\"\"\n",
    "Implementation of Binary Tree as list of lists\n",
    "First element will be root, second element is left node and third will be right node.\n",
    "\"\"\"\n",
    "def BinaryTree(r):\n",
    "    return [r, [], []]\n",
    "\n",
    "def insert_left(root, new_branch):\n",
    "    t = root.pop(1)\n",
    "    if len(t) > 1:\n",
    "        root.insert(1, [new_branch, t, []])\n",
    "    else:\n",
    "        root.insert(1, [new_branch, [], []])\n",
    "    return root\n",
    "\n",
    "def insert_right(root, new_branch):\n",
    "    t = root.pop(2)\n",
    "    if len(t) > 1:\n",
    "        root.insert(2, [new_branch, [], t])\n",
    "    else:\n",
    "        root.insert(2, [new_branch, [], []])\n",
    "    return root\n",
    "\n",
    "def get_root_val(root):\n",
    "    return root[0]\n",
    "\n",
    "def set_root_val(root, new_val):\n",
    "    root[0] = new_val\n",
    "    \n",
    "def get_left_child(root):\n",
    "    return root[1]\n",
    "\n",
    "def get_right_child(root):\n",
    "    return root[2]"
   ]
  },
  {
   "cell_type": "code",
   "execution_count": 8,
   "metadata": {},
   "outputs": [
    {
     "data": {
      "text/plain": [
       "[3, [5, [4, [], []], []], []]"
      ]
     },
     "execution_count": 8,
     "metadata": {},
     "output_type": "execute_result"
    }
   ],
   "source": [
    "r = BinaryTree(3)\n",
    "insert_left(r,4)\n",
    "insert_left(r,5)"
   ]
  },
  {
   "cell_type": "code",
   "execution_count": 9,
   "metadata": {},
   "outputs": [
    {
     "data": {
      "text/plain": [
       "[3, [5, [4, [], []], []], [6, [], []]]"
      ]
     },
     "execution_count": 9,
     "metadata": {},
     "output_type": "execute_result"
    }
   ],
   "source": [
    "insert_right(r, 6)"
   ]
  },
  {
   "cell_type": "code",
   "execution_count": 10,
   "metadata": {},
   "outputs": [
    {
     "data": {
      "text/plain": [
       "[3, [5, [4, [], []], []], [7, [], [6, [], []]]]"
      ]
     },
     "execution_count": 10,
     "metadata": {},
     "output_type": "execute_result"
    }
   ],
   "source": [
    "insert_right(r,7)"
   ]
  },
  {
   "cell_type": "code",
   "execution_count": 12,
   "metadata": {},
   "outputs": [
    {
     "data": {
      "text/plain": [
       "[5, [4, [], []], []]"
      ]
     },
     "execution_count": 12,
     "metadata": {},
     "output_type": "execute_result"
    }
   ],
   "source": [
    "l = get_left_child(r)\n",
    "l"
   ]
  },
  {
   "cell_type": "code",
   "execution_count": 13,
   "metadata": {},
   "outputs": [
    {
     "data": {
      "text/plain": [
       "[3, [9, [4, [], []], []], [7, [], [6, [], []]]]"
      ]
     },
     "execution_count": 13,
     "metadata": {},
     "output_type": "execute_result"
    }
   ],
   "source": [
    "set_root_val(l,9)\n",
    "r"
   ]
  },
  {
   "cell_type": "markdown",
   "metadata": {},
   "source": [
    "## Implementation of Tree using class"
   ]
  },
  {
   "cell_type": "code",
   "execution_count": 26,
   "metadata": {},
   "outputs": [
    {
     "name": "stdout",
     "output_type": "stream",
     "text": [
      "b\n",
      "d\n"
     ]
    }
   ],
   "source": [
    "class BinaryTreeClass(object):\n",
    "    \n",
    "    def __init__(self, root_obj):\n",
    "        self.key = root_obj\n",
    "        self.left_child = None\n",
    "        self.right_child = None\n",
    "        \n",
    "    def insert_left_child(self, new_node):\n",
    "        if self.left_child == None:\n",
    "            self.left_child = BinaryTree(new_node)\n",
    "        else:\n",
    "            t = BinaryTree(new_node)\n",
    "            t.left_child = self.left_child\n",
    "            self.left_child = t\n",
    "            \n",
    "    def insert_right_child(self, new_node):\n",
    "        if self.right_child == None:\n",
    "            self.right_child = BinaryTree(new_node)\n",
    "        else:\n",
    "            t = BinaryTree(new_node)\n",
    "            t.right_child = self.right_child\n",
    "            self.right_child = t\n",
    "            \n",
    "    def get_right_child(self):\n",
    "        return self.right_child\n",
    "    \n",
    "    def get_left_child(self):\n",
    "        return self.left_child\n",
    "    \n",
    "    def set_root_val(self, obj):\n",
    "        self.key = obj\n",
    "        \n",
    "    def get_root_val(self):\n",
    "        return self.key\n",
    "    \n",
    "b = BinaryTreeClass('a')\n",
    "b.insert_left_child('b')\n",
    "print(b.get_left_child().get_root_val())\n",
    "b.insert_right_child('c')\n",
    "b.insert_left_child('d')\n",
    "print(b.get_left_child().get_root_val())"
   ]
  },
  {
   "cell_type": "markdown",
   "metadata": {},
   "source": [
    "## Tree Traversals\n",
    "There are three patterns of traversing a tree\n",
    "### Preorder\n",
    "Visit the root node first, do a preorder traversal of the left subtree, then a preorder traversal of the right subtree.\n",
    "### Inorder\n",
    "Do a inorder traversal of the left subtree, then visit the root, and then a inorder traversal of the right subtree.\n",
    "### Postorder\n",
    "Do a postorder traversal of left subtree, then a postorder traversal of the right subtree and then visit the root."
   ]
  },
  {
   "cell_type": "code",
   "execution_count": 29,
   "metadata": {},
   "outputs": [
    {
     "name": "stdout",
     "output_type": "stream",
     "text": [
      "a d b c "
     ]
    }
   ],
   "source": [
    "\"\"\"\n",
    "Preorder Traversal of Binary Tree\n",
    "\"\"\"\n",
    "def preorder(tree):\n",
    "    if tree:\n",
    "        print(tree.get_root_val(), end =\" \")\n",
    "        preorder(tree.get_left_child())\n",
    "        preorder(tree.get_right_child())\n",
    "preorder(b)"
   ]
  },
  {
   "cell_type": "code",
   "execution_count": 31,
   "metadata": {},
   "outputs": [
    {
     "name": "stdout",
     "output_type": "stream",
     "text": [
      "b d a c "
     ]
    }
   ],
   "source": [
    "\"\"\"\n",
    "Inorder Traversal of Binary Tree\n",
    "\"\"\"\n",
    "def inorder(tree):\n",
    "    if tree:\n",
    "        inorder(tree.get_left_child())\n",
    "        print(tree.get_root_val(), end =\" \")\n",
    "        inorder(tree.get_right_child())\n",
    "inorder(b)"
   ]
  },
  {
   "cell_type": "code",
   "execution_count": 33,
   "metadata": {},
   "outputs": [
    {
     "name": "stdout",
     "output_type": "stream",
     "text": [
      "b d c a "
     ]
    }
   ],
   "source": [
    "\"\"\"\n",
    "Postorder Traversal of Binary Tree\n",
    "\"\"\"\n",
    "def postorder(tree):\n",
    "    if tree:\n",
    "        postorder(tree.get_left_child())\n",
    "        postorder(tree.get_right_child())\n",
    "        print(tree.get_root_val(), end =\" \")\n",
    "postorder(b)"
   ]
  },
  {
   "cell_type": "markdown",
   "metadata": {},
   "source": [
    "## Priority Queue\n",
    "highest priority item are at the front while the lowest priority item is at the end. Binary heap allows this implementation in O(nlogn). **Min heap** has smallest key is at the front. While the largest key is in the front in **max heap**.  \n",
    "A balanced binary tree has roughly the same number of nodes in the left and the right subtree of the root. In heap implementation, we keep the tree balanced by creating a complete binary tree. A complete binary tree is a tree in which each level has all of its nodes.  \n",
    "2p is the position of left child if p is the position of parent. Right child's position is 2p+1."
   ]
  },
  {
   "cell_type": "code",
   "execution_count": null,
   "metadata": {},
   "outputs": [],
   "source": [
    "\"\"\"\n",
    "Binary Heap Implementation\n",
    "\"\"\"\n",
    "class BinaryHeap:\n",
    "    def __init__(self):\n",
    "        self.heap_list = [0] # first element will always be 0\n",
    "        self.current_size = 0\n",
    "        \n",
    "    def perc_up(self, i):\n",
    "        while i//2 > 0:\n",
    "            if self.heap_list[i] < self.heap_list[i//2]:\n",
    "                tmp = self.heap_list[i//2]\n",
    "                self.heap_list[i//2] = self.heap_list[i]\n",
    "                self.heap_list[i] = tmp\n",
    "            i = i//2\n",
    "            \n",
    "    def perc_down(self, i):\n",
    "        while (i*2) <= self.current_size:\n",
    "            mc = self.min_child(i)\n",
    "            if.self.heap_list[i] > self.heap_list[mc]:\n",
    "                tmp = self.heap_list[i]\n",
    "                self.heap_list[i] = self.heap_list[mc]\n",
    "                self.heap_list[mc] = tmp\n",
    "            i = mc\n",
    "            \n",
    "    def min_child(self, i):\n",
    "        if i*2+1 > self.current_size:\n",
    "            return i*2\n",
    "        else:\n",
    "            if self.heap_list[i*2] < self.heap_list[i*2 + 1]:\n",
    "                return i*2\n",
    "            else:\n",
    "                return i*2+1\n",
    "        \n",
    "    def insert(self, k):\n",
    "        self.heap_list.append(k)\n",
    "        self.current_size +=1\n",
    "        self.perc_up(Self.current_size)\n",
    "        \n",
    "    def del_min(self):\n",
    "        ret_val = self.heap_list[1]\n",
    "        self.heap_list[1] = self.heap_list[self.current_size]\n",
    "        self.current_size -= self.current_size\n",
    "        self.heap_list.pop()\n",
    "        self.perc_down(1)\n",
    "        return ret_val\n",
    "\n",
    "# to insert n nodes, O(n) to build a heap from a list"
   ]
  }
 ],
 "metadata": {
  "kernelspec": {
   "display_name": "Python 3",
   "language": "python",
   "name": "python3"
  },
  "language_info": {
   "codemirror_mode": {
    "name": "ipython",
    "version": 3
   },
   "file_extension": ".py",
   "mimetype": "text/x-python",
   "name": "python",
   "nbconvert_exporter": "python",
   "pygments_lexer": "ipython3",
   "version": "3.7.4"
  }
 },
 "nbformat": 4,
 "nbformat_minor": 2
}
